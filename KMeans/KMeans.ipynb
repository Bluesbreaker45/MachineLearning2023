{
 "cells": [
  {
   "cell_type": "code",
   "execution_count": null,
   "metadata": {},
   "outputs": [],
   "source": [
    "%matplotlib inline"
   ]
  },
  {
   "cell_type": "code",
   "execution_count": null,
   "metadata": {},
   "outputs": [],
   "source": [
    "import matplotlib.pyplot as plt\n",
    "import numpy as np\n",
    "from PIL import Image"
   ]
  },
  {
   "cell_type": "code",
   "execution_count": null,
   "metadata": {},
   "outputs": [],
   "source": [
    "import random\n",
    "import math\n",
    "\n",
    "distance = lambda a, b: math.sqrt((a[0]-b[0])**2 + (a[1]-b[1])**2 + (a[2]-b[2])**2)\n",
    "\n",
    "def meanPos(set, arr):\n",
    "    ps = [arr[i] for i in set]\n",
    "    r = sum([p[0] for p in ps]) // len(set)\n",
    "    g = sum([p[1] for p in ps]) // len(set)\n",
    "    b = sum([p[2] for p in ps]) // len(set)\n",
    "    return (r, g, b)\n",
    "\n",
    "makePair = lambda a: (a[0], a[1], a[2])\n",
    "randSeed = lambda set, num: random.sample(set, num)\n",
    "\n",
    "class KMeans:\n",
    "    def __init__(\n",
    "            self,\n",
    "            k=4,\n",
    "            seedFunc=randSeed,\n",
    "            distanceFunc=distance,\n",
    "            centralPosition=meanPos,\n",
    "            maxPass=100,\n",
    "            changeThreshold=1,\n",
    "            makeHashable=makePair\n",
    "            ):\n",
    "        self.k = k\n",
    "        self.distanceFunc = distanceFunc\n",
    "        self.centralPosition = centralPosition\n",
    "        self.maxPass = maxPass\n",
    "        self.changeThreshold = changeThreshold\n",
    "        self.seedFunc = seedFunc\n",
    "        self.makeHashable = makeHashable\n",
    "    \n",
    "    def cluster(self, arr):\n",
    "        passNum = 1\n",
    "        print(\"pass: \", 1)\n",
    "\n",
    "        # step 1: randomly choose k seed centroids\n",
    "        rand = self.seedFunc(range(0, len(arr)), self.k)\n",
    "        centroids = [self.makeHashable(arr[i]) for i in rand]\n",
    "        clusters = {}\n",
    "        for c in centroids:\n",
    "            clusters[c] = set()\n",
    "\n",
    "        # step 2: assign every points into the set of the closest centroids.\n",
    "        for i in range(len(arr)):\n",
    "            c = min(centroids, key=lambda c: self.distanceFunc(arr[i], c))\n",
    "            clusters[c].add(i)\n",
    "        \n",
    "        changed = True\n",
    "        while changed and passNum < self.maxPass:\n",
    "            passNum += 1\n",
    "            print(\"pass: \", passNum)\n",
    "            changeNum = 0\n",
    "            changed = False\n",
    "            # step 3: calculate new centroids\n",
    "            newCentroids = [self.centralPosition(clusters[c], arr) for c in centroids]\n",
    "\n",
    "            # get old centroid-point pairs\n",
    "            oldPairs = []\n",
    "            for i in range(len(centroids)):\n",
    "                oldSet = clusters[centroids[i]]\n",
    "                oldPairs += [(index, newCentroids[i]) for index in oldSet]\n",
    "\n",
    "            # step 2: assign every points into the set of the closest centroids.\n",
    "            # new clusters\n",
    "            newClusters = {}\n",
    "            for newC in newCentroids:\n",
    "                newClusters[newC] = set()\n",
    "            \n",
    "            centroids = newCentroids\n",
    "            clusters = newClusters\n",
    "\n",
    "            # assign each index to new labels\n",
    "            for i, oldCentroid in oldPairs:\n",
    "                c = min(centroids, key=lambda c: self.distanceFunc(arr[i], c))\n",
    "                clusters[c].add(i)\n",
    "\n",
    "                if c != oldCentroid:\n",
    "                    changeNum += 1\n",
    "\n",
    "            print(\"{} point(s) got label changed.\".format(changeNum))\n",
    "            \n",
    "            if changeNum >= self.changeThreshold:\n",
    "                changed = True\n",
    "        \n",
    "        if not changed:\n",
    "            print(\"Iteration stops because change num did not exceed the threshold({}) in the last pass.\".format(self.changeThreshold))\n",
    "        if passNum >= self.maxPass:\n",
    "            print(\"Iteration stops because pass num exceeds max pass limit({}).\".format(self.maxPass))\n",
    "\n",
    "        result = []\n",
    "\n",
    "        # part of step 3: calculate the final centroids\n",
    "        for centroid in centroids:\n",
    "            finalCentroid = self.centralPosition(clusters[centroid], arr)\n",
    "            result += [(index, finalCentroid) for index in clusters[centroid]]\n",
    "\n",
    "        # get flatten results in the original pixel order\n",
    "        result.sort(key=lambda p: p[0])\n",
    "\n",
    "        return centroids, result\n",
    "\n",
    "\n",
    "kmeans = KMeans(k=10, maxPass=10000)"
   ]
  },
  {
   "cell_type": "code",
   "execution_count": null,
   "metadata": {},
   "outputs": [],
   "source": [
    "img = np.asarray(Image.open('./输入.jpg'))\n",
    "imgplot = plt.imshow(img)"
   ]
  },
  {
   "cell_type": "code",
   "execution_count": null,
   "metadata": {},
   "outputs": [],
   "source": [
    "print(img.shape)\n",
    "arr = img.reshape(-1, img.shape[-1])"
   ]
  },
  {
   "cell_type": "code",
   "execution_count": null,
   "metadata": {},
   "outputs": [],
   "source": [
    "res = kmeans.cluster(arr)"
   ]
  },
  {
   "cell_type": "code",
   "execution_count": null,
   "metadata": {},
   "outputs": [],
   "source": [
    "pp = [e[1] for e in res[1]]\n",
    "ppp = []\n",
    "# retrieve the original dimension(2D rgb picture)\n",
    "for i in range(img.shape[0]):\n",
    "    ppp += [ pp[i*img.shape[1] : (i+1)*img.shape[1]] ]"
   ]
  },
  {
   "cell_type": "code",
   "execution_count": null,
   "metadata": {},
   "outputs": [],
   "source": [
    "a = np.array(ppp)\n",
    "print(a.shape)\n",
    "imgplot = plt.imshow(a)"
   ]
  }
 ],
 "metadata": {
  "kernelspec": {
   "display_name": "base",
   "language": "python",
   "name": "python3"
  },
  "language_info": {
   "codemirror_mode": {
    "name": "ipython",
    "version": 3
   },
   "file_extension": ".py",
   "mimetype": "text/x-python",
   "name": "python",
   "nbconvert_exporter": "python",
   "pygments_lexer": "ipython3",
   "version": "3.9.12"
  },
  "orig_nbformat": 4
 },
 "nbformat": 4,
 "nbformat_minor": 2
}
